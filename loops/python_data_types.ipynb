{
 "cells": [
  {
   "cell_type": "markdown",
   "metadata": {},
   "source": [
    "| **Тип**            | **Тип\tназва типу (клас)** | **Приклад**                       |\n",
    "|--------------------|---------------------------|-----------------------------------|\n",
    "| Ціле число         | int                       | 0, 999, -100500, 15               |\n",
    "| Дробове число      | float                     | 3.14, -22.99, 15.0, 0.001         |\n",
    "| Комплексне число   | complex                   | 10.5j, 12.0j, -9.-9.99j, 0.-1j    |\n",
    "| Булевий (логічний) | bool                      | True, False                       |\n",
    "| Рядковий (текст)   | str                       | \"Іван\", \"3.14\", \"\", \"Т. Шевченко\" |\n"
   ]
  },
  {
   "cell_type": "code",
   "execution_count": 5,
   "metadata": {},
   "outputs": [
    {
     "name": "stdout",
     "output_type": "stream",
     "text": [
      "<class 'int'>\n",
      "<class 'float'>\n",
      "<class 'float'>\n",
      "<class 'complex'>\n",
      "<class 'bool'>\n",
      "<class 'str'>\n",
      "<class 'str'>\n"
     ]
    }
   ],
   "source": [
    "print(type(10)) # поверне int\n",
    "print(type(3.001)) # поверне float\n",
    "print(type(-9.0)) # поверне float\n",
    "print(type(3.-7j)) # поверне complex\n",
    "print(type(False)) # поверне bool\n",
    "print(type(\"Python\")) # поверне str\n",
    "print(type(\"1000\")) # поверне str"
   ]
  }
 ],
 "metadata": {
  "kernelspec": {
   "display_name": "analysis",
   "language": "python",
   "name": "python3"
  },
  "language_info": {
   "codemirror_mode": {
    "name": "ipython",
    "version": 3
   },
   "file_extension": ".py",
   "mimetype": "text/x-python",
   "name": "python",
   "nbconvert_exporter": "python",
   "pygments_lexer": "ipython3",
   "version": "3.11.5"
  }
 },
 "nbformat": 4,
 "nbformat_minor": 2
}
